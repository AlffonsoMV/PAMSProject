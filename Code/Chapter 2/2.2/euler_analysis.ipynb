{
 "cells": [
  {
   "cell_type": "code",
   "execution_count": 13,
   "metadata": {},
   "outputs": [
    {
     "name": "stdout",
     "output_type": "stream",
     "text": [
      "(-Delta_t**2*k - Delta_t*sqrt(k*(Delta_t**2*k - 4*m)) + 2*m)/(2*m) (-Delta_t**2*k + Delta_t*sqrt(k*(Delta_t**2*k - 4*m)) + 2*m)/(2*m)\n"
     ]
    }
   ],
   "source": [
    "import sympy as sp\n",
    "\n",
    "# Define symbols\n",
    "Delta_t, k, m = sp.symbols('Delta_t k m')\n",
    "xi = Delta_t * sp.sqrt(k/m)\n",
    "\n",
    "A = sp.Matrix([[1, -Delta_t * k], [Delta_t/m, 1 - (Delta_t**2 * k)/m]])\n",
    "\n",
    "eigenvals = A.eigenvals()\n",
    "eigenvals_list = list(eigenvals.keys())\n",
    "\n",
    "simplified_eigenvals = [sp.simplify(ev.subs(Delta_t * sp.sqrt(k/m), xi)) for ev in eigenvals_list]\n",
    "print(simplified_eigenvals[0], simplified_eigenvals[1])"
   ]
  },
  {
   "cell_type": "code",
   "execution_count": 14,
   "metadata": {},
   "outputs": [
    {
     "data": {
      "text/latex": [
       "$\\displaystyle 1$"
      ],
      "text/plain": [
       "1"
      ]
     },
     "execution_count": 14,
     "metadata": {},
     "output_type": "execute_result"
    }
   ],
   "source": [
    "mul = sp.simplify(simplified_eigenvals[0]*simplified_eigenvals[1])\n",
    "mul"
   ]
  }
 ],
 "metadata": {
  "kernelspec": {
   "display_name": "Python 3",
   "language": "python",
   "name": "python3"
  },
  "language_info": {
   "codemirror_mode": {
    "name": "ipython",
    "version": 3
   },
   "file_extension": ".py",
   "mimetype": "text/x-python",
   "name": "python",
   "nbconvert_exporter": "python",
   "pygments_lexer": "ipython3",
   "version": "3.11.5"
  }
 },
 "nbformat": 4,
 "nbformat_minor": 2
}
